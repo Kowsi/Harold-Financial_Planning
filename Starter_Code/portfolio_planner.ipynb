{
 "cells": [
  {
   "cell_type": "code",
   "execution_count": 171,
   "metadata": {},
   "outputs": [],
   "source": [
    "import numpy as np\n",
    "import pandas as pd\n",
    "import os\n",
    "from datetime import datetime, timedelta\n",
    "import matplotlib.pyplot as plt\n",
    "import alpaca_trade_api as tradeapi\n",
    "%matplotlib inline"
   ]
  },
  {
   "cell_type": "code",
   "execution_count": 172,
   "metadata": {},
   "outputs": [],
   "source": [
    "np.random.seed(42)"
   ]
  },
  {
   "cell_type": "code",
   "execution_count": 173,
   "metadata": {},
   "outputs": [
    {
     "name": "stdout",
     "output_type": "stream",
     "text": [
      "env: IEX_API_VERSION=iexcloud-sandbox\n",
      "env: IEX_TOKEN=Tsk_5798c0ab124d49639bb1575b322841c4\n",
      "env: ALPACA_API_KEY=PKQ9QXNTU9DD86IAWTJL\n",
      "env: ALPACA_SECRET_KEY=YC1yh5LNOhfobsf1JKC2WwBNSOp/gZu9RjfRRx2w\n"
     ]
    }
   ],
   "source": [
    "%env IEX_API_VERSION=iexcloud-sandbox\n",
    "%env IEX_TOKEN=Tsk_5798c0ab124d49639bb1575b322841c4\n",
    "%env ALPACA_API_KEY=PKQ9QXNTU9DD86IAWTJL\n",
    "%env ALPACA_SECRET_KEY=YC1yh5LNOhfobsf1JKC2WwBNSOp/gZu9RjfRRx2w"
   ]
  },
  {
   "cell_type": "markdown",
   "metadata": {},
   "source": [
    "# Portfolio Planner\n",
    "\n",
    "In this activity, you will use the iexfinance api to grab historical data for a 60/40 portfolio using `SPY` to represent the stock portion and `AGG` to represent the bonds."
   ]
  },
  {
   "cell_type": "code",
   "execution_count": 174,
   "metadata": {},
   "outputs": [],
   "source": [
    "from iexfinance.stocks import get_historical_data\n",
    "import iexfinance as iex\n",
    "\n",
    "os.environ['IEX_API_VERSION'] = 'iexcloud-sandbox'\n",
    "os.environ['IEX_TOKEN'] = os.getenv('IEX_TOKEN')"
   ]
  },
  {
   "cell_type": "markdown",
   "metadata": {},
   "source": [
    "# Data Collection\n",
    "\n",
    "In this step, you will need to use the IEX api to fetch closing prices for the `SPY` and `AGG` tickers. Save the results as a pandas DataFrame"
   ]
  },
  {
   "cell_type": "code",
   "execution_count": 111,
   "metadata": {},
   "outputs": [
    {
     "data": {
      "text/html": [
       "<div>\n",
       "<style scoped>\n",
       "    .dataframe tbody tr th:only-of-type {\n",
       "        vertical-align: middle;\n",
       "    }\n",
       "\n",
       "    .dataframe tbody tr th {\n",
       "        vertical-align: top;\n",
       "    }\n",
       "\n",
       "    .dataframe thead tr th {\n",
       "        text-align: left;\n",
       "    }\n",
       "\n",
       "    .dataframe thead tr:last-of-type th {\n",
       "        text-align: right;\n",
       "    }\n",
       "</style>\n",
       "<table border=\"1\" class=\"dataframe\">\n",
       "  <thead>\n",
       "    <tr>\n",
       "      <th></th>\n",
       "      <th colspan=\"5\" halign=\"left\">SPY</th>\n",
       "      <th colspan=\"5\" halign=\"left\">AGG</th>\n",
       "    </tr>\n",
       "    <tr>\n",
       "      <th></th>\n",
       "      <th>open</th>\n",
       "      <th>high</th>\n",
       "      <th>low</th>\n",
       "      <th>close</th>\n",
       "      <th>volume</th>\n",
       "      <th>open</th>\n",
       "      <th>high</th>\n",
       "      <th>low</th>\n",
       "      <th>close</th>\n",
       "      <th>volume</th>\n",
       "    </tr>\n",
       "    <tr>\n",
       "      <th>date</th>\n",
       "      <th></th>\n",
       "      <th></th>\n",
       "      <th></th>\n",
       "      <th></th>\n",
       "      <th></th>\n",
       "      <th></th>\n",
       "      <th></th>\n",
       "      <th></th>\n",
       "      <th></th>\n",
       "      <th></th>\n",
       "    </tr>\n",
       "  </thead>\n",
       "  <tbody>\n",
       "    <tr>\n",
       "      <th>2019-04-22</th>\n",
       "      <td>302.32</td>\n",
       "      <td>294.62</td>\n",
       "      <td>289.55</td>\n",
       "      <td>302.43</td>\n",
       "      <td>41981634</td>\n",
       "      <td>108.22</td>\n",
       "      <td>110.98</td>\n",
       "      <td>111.62</td>\n",
       "      <td>112.35</td>\n",
       "      <td>5795528</td>\n",
       "    </tr>\n",
       "    <tr>\n",
       "      <th>2019-04-23</th>\n",
       "      <td>300.84</td>\n",
       "      <td>301.83</td>\n",
       "      <td>300.55</td>\n",
       "      <td>298.98</td>\n",
       "      <td>53347931</td>\n",
       "      <td>110.25</td>\n",
       "      <td>111.90</td>\n",
       "      <td>112.49</td>\n",
       "      <td>111.08</td>\n",
       "      <td>3588850</td>\n",
       "    </tr>\n",
       "    <tr>\n",
       "      <th>2019-04-24</th>\n",
       "      <td>299.09</td>\n",
       "      <td>304.76</td>\n",
       "      <td>295.57</td>\n",
       "      <td>296.96</td>\n",
       "      <td>52503382</td>\n",
       "      <td>110.85</td>\n",
       "      <td>113.43</td>\n",
       "      <td>112.85</td>\n",
       "      <td>109.50</td>\n",
       "      <td>3057563</td>\n",
       "    </tr>\n",
       "    <tr>\n",
       "      <th>2019-04-25</th>\n",
       "      <td>299.27</td>\n",
       "      <td>299.45</td>\n",
       "      <td>300.53</td>\n",
       "      <td>294.61</td>\n",
       "      <td>58971460</td>\n",
       "      <td>109.89</td>\n",
       "      <td>113.38</td>\n",
       "      <td>111.28</td>\n",
       "      <td>109.90</td>\n",
       "      <td>2680167</td>\n",
       "    </tr>\n",
       "    <tr>\n",
       "      <th>2019-04-26</th>\n",
       "      <td>296.10</td>\n",
       "      <td>299.29</td>\n",
       "      <td>298.30</td>\n",
       "      <td>303.91</td>\n",
       "      <td>53352138</td>\n",
       "      <td>111.86</td>\n",
       "      <td>112.42</td>\n",
       "      <td>112.80</td>\n",
       "      <td>109.29</td>\n",
       "      <td>2377883</td>\n",
       "    </tr>\n",
       "    <tr>\n",
       "      <th>...</th>\n",
       "      <td>...</td>\n",
       "      <td>...</td>\n",
       "      <td>...</td>\n",
       "      <td>...</td>\n",
       "      <td>...</td>\n",
       "      <td>...</td>\n",
       "      <td>...</td>\n",
       "      <td>...</td>\n",
       "      <td>...</td>\n",
       "      <td>...</td>\n",
       "    </tr>\n",
       "    <tr>\n",
       "      <th>2020-04-13</th>\n",
       "      <td>287.94</td>\n",
       "      <td>284.44</td>\n",
       "      <td>280.17</td>\n",
       "      <td>288.52</td>\n",
       "      <td>115757217</td>\n",
       "      <td>118.16</td>\n",
       "      <td>120.78</td>\n",
       "      <td>117.96</td>\n",
       "      <td>118.10</td>\n",
       "      <td>5746976</td>\n",
       "    </tr>\n",
       "    <tr>\n",
       "      <th>2020-04-14</th>\n",
       "      <td>287.12</td>\n",
       "      <td>298.30</td>\n",
       "      <td>286.63</td>\n",
       "      <td>290.87</td>\n",
       "      <td>138539067</td>\n",
       "      <td>117.81</td>\n",
       "      <td>119.00</td>\n",
       "      <td>117.57</td>\n",
       "      <td>120.69</td>\n",
       "      <td>5660116</td>\n",
       "    </tr>\n",
       "    <tr>\n",
       "      <th>2020-04-15</th>\n",
       "      <td>287.48</td>\n",
       "      <td>293.76</td>\n",
       "      <td>281.00</td>\n",
       "      <td>281.49</td>\n",
       "      <td>123103347</td>\n",
       "      <td>121.82</td>\n",
       "      <td>117.95</td>\n",
       "      <td>118.47</td>\n",
       "      <td>118.73</td>\n",
       "      <td>4498062</td>\n",
       "    </tr>\n",
       "    <tr>\n",
       "      <th>2020-04-16</th>\n",
       "      <td>279.27</td>\n",
       "      <td>293.65</td>\n",
       "      <td>284.18</td>\n",
       "      <td>282.10</td>\n",
       "      <td>135780469</td>\n",
       "      <td>120.99</td>\n",
       "      <td>122.03</td>\n",
       "      <td>118.86</td>\n",
       "      <td>121.57</td>\n",
       "      <td>4921195</td>\n",
       "    </tr>\n",
       "    <tr>\n",
       "      <th>2020-04-17</th>\n",
       "      <td>289.53</td>\n",
       "      <td>295.30</td>\n",
       "      <td>284.60</td>\n",
       "      <td>291.94</td>\n",
       "      <td>147618523</td>\n",
       "      <td>117.52</td>\n",
       "      <td>120.00</td>\n",
       "      <td>119.25</td>\n",
       "      <td>117.73</td>\n",
       "      <td>4998444</td>\n",
       "    </tr>\n",
       "  </tbody>\n",
       "</table>\n",
       "<p>251 rows × 10 columns</p>\n",
       "</div>"
      ],
      "text/plain": [
       "               SPY                                        AGG                  \\\n",
       "              open    high     low   close     volume    open    high     low   \n",
       "date                                                                            \n",
       "2019-04-22  302.32  294.62  289.55  302.43   41981634  108.22  110.98  111.62   \n",
       "2019-04-23  300.84  301.83  300.55  298.98   53347931  110.25  111.90  112.49   \n",
       "2019-04-24  299.09  304.76  295.57  296.96   52503382  110.85  113.43  112.85   \n",
       "2019-04-25  299.27  299.45  300.53  294.61   58971460  109.89  113.38  111.28   \n",
       "2019-04-26  296.10  299.29  298.30  303.91   53352138  111.86  112.42  112.80   \n",
       "...            ...     ...     ...     ...        ...     ...     ...     ...   \n",
       "2020-04-13  287.94  284.44  280.17  288.52  115757217  118.16  120.78  117.96   \n",
       "2020-04-14  287.12  298.30  286.63  290.87  138539067  117.81  119.00  117.57   \n",
       "2020-04-15  287.48  293.76  281.00  281.49  123103347  121.82  117.95  118.47   \n",
       "2020-04-16  279.27  293.65  284.18  282.10  135780469  120.99  122.03  118.86   \n",
       "2020-04-17  289.53  295.30  284.60  291.94  147618523  117.52  120.00  119.25   \n",
       "\n",
       "                             \n",
       "             close   volume  \n",
       "date                         \n",
       "2019-04-22  112.35  5795528  \n",
       "2019-04-23  111.08  3588850  \n",
       "2019-04-24  109.50  3057563  \n",
       "2019-04-25  109.90  2680167  \n",
       "2019-04-26  109.29  2377883  \n",
       "...            ...      ...  \n",
       "2020-04-13  118.10  5746976  \n",
       "2020-04-14  120.69  5660116  \n",
       "2020-04-15  118.73  4498062  \n",
       "2020-04-16  121.57  4921195  \n",
       "2020-04-17  117.73  4998444  \n",
       "\n",
       "[251 rows x 10 columns]"
      ]
     },
     "execution_count": 111,
     "metadata": {},
     "output_type": "execute_result"
    }
   ],
   "source": [
    "# set the list of tickers\n",
    "list_of_tickers = [\"SPY\", \"AGG\"]\n",
    "\n",
    "# Set start and end datetimes of 1 year, between now and 365 days ago.\n",
    "end_date = datetime.now()\n",
    "start_date = end_date + timedelta(-365)\n",
    "\n",
    "# Get 1 year's worth of historical data for SPY & AGG\n",
    "historical_data = get_historical_data(list_of_tickers, start_date, end_date, output_format='pandas')\n",
    "\n",
    "historical_data"
   ]
  },
  {
   "cell_type": "code",
   "execution_count": 114,
   "metadata": {},
   "outputs": [],
   "source": [
    "#Drop the extra columns\n",
    "historical_data.drop(columns=['open', 'high', 'low', 'volume'], level=1, inplace=True)"
   ]
  },
  {
   "cell_type": "code",
   "execution_count": 115,
   "metadata": {},
   "outputs": [
    {
     "data": {
      "text/html": [
       "<div>\n",
       "<style scoped>\n",
       "    .dataframe tbody tr th:only-of-type {\n",
       "        vertical-align: middle;\n",
       "    }\n",
       "\n",
       "    .dataframe tbody tr th {\n",
       "        vertical-align: top;\n",
       "    }\n",
       "\n",
       "    .dataframe thead th {\n",
       "        text-align: right;\n",
       "    }\n",
       "</style>\n",
       "<table border=\"1\" class=\"dataframe\">\n",
       "  <thead>\n",
       "    <tr style=\"text-align: right;\">\n",
       "      <th></th>\n",
       "      <th>SPY</th>\n",
       "      <th>AGG</th>\n",
       "    </tr>\n",
       "    <tr>\n",
       "      <th>date</th>\n",
       "      <th></th>\n",
       "      <th></th>\n",
       "    </tr>\n",
       "  </thead>\n",
       "  <tbody>\n",
       "    <tr>\n",
       "      <th>2019-04-22</th>\n",
       "      <td>302.43</td>\n",
       "      <td>112.35</td>\n",
       "    </tr>\n",
       "    <tr>\n",
       "      <th>2019-04-23</th>\n",
       "      <td>298.98</td>\n",
       "      <td>111.08</td>\n",
       "    </tr>\n",
       "    <tr>\n",
       "      <th>2019-04-24</th>\n",
       "      <td>296.96</td>\n",
       "      <td>109.50</td>\n",
       "    </tr>\n",
       "    <tr>\n",
       "      <th>2019-04-25</th>\n",
       "      <td>294.61</td>\n",
       "      <td>109.90</td>\n",
       "    </tr>\n",
       "    <tr>\n",
       "      <th>2019-04-26</th>\n",
       "      <td>303.91</td>\n",
       "      <td>109.29</td>\n",
       "    </tr>\n",
       "  </tbody>\n",
       "</table>\n",
       "</div>"
      ],
      "text/plain": [
       "               SPY     AGG\n",
       "date                      \n",
       "2019-04-22  302.43  112.35\n",
       "2019-04-23  298.98  111.08\n",
       "2019-04-24  296.96  109.50\n",
       "2019-04-25  294.61  109.90\n",
       "2019-04-26  303.91  109.29"
      ]
     },
     "execution_count": 115,
     "metadata": {},
     "output_type": "execute_result"
    }
   ],
   "source": [
    "historical_data = historical_data.droplevel(1, axis=1)\n",
    "historical_data.head()"
   ]
  },
  {
   "cell_type": "markdown",
   "metadata": {},
   "source": [
    "# Monte Carlo Simulation\n",
    "\n",
    "In this step, you will run Monte Carlo Simulations for your portfolio to model portfolio performance at different retirement ages. \n",
    "\n",
    "Complete the following steps:\n",
    "1. Calculate the daily returns for the SPY and AGG closing prices.\n",
    "2. Calculate volatility for both the SPY and AGG closing prices.\n",
    "3. Find the last day's closing price for both stocks and save those as variables.\n",
    "4. Run a Monte Carlo Simulation of at least 500 iterations and generate at least 30 years of closing prices\n",
    "\n",
    "### HINTS:\n",
    "There are 252 trading days per year, so the number of records to generate for each Monte Carlo run will be 252 days * 30 years"
   ]
  },
  {
   "cell_type": "code",
   "execution_count": 116,
   "metadata": {},
   "outputs": [
    {
     "data": {
      "text/plain": [
       "SPY    0.000257\n",
       "AGG    0.000363\n",
       "dtype: float64"
      ]
     },
     "execution_count": 116,
     "metadata": {},
     "output_type": "execute_result"
    }
   ],
   "source": [
    "# Calculate the daily roi for the stocks\n",
    "daily_returns = historical_data.pct_change().dropna()\n",
    "avg_daily_return = daily_returns.mean()\n",
    "avg_daily_return"
   ]
  },
  {
   "cell_type": "code",
   "execution_count": 119,
   "metadata": {},
   "outputs": [
    {
     "data": {
      "text/plain": [
       "SPY    0.028251\n",
       "AGG    0.018772\n",
       "dtype: float64"
      ]
     },
     "execution_count": 119,
     "metadata": {},
     "output_type": "execute_result"
    }
   ],
   "source": [
    "# Calculate volatility\n",
    "standard_deviation = daily_returns.std()\n",
    "standard_deviation"
   ]
  },
  {
   "cell_type": "code",
   "execution_count": 120,
   "metadata": {},
   "outputs": [
    {
     "data": {
      "text/plain": [
       "{'SPY': 291.94, 'AGG': 117.73}"
      ]
     },
     "execution_count": 120,
     "metadata": {},
     "output_type": "execute_result"
    }
   ],
   "source": [
    "# Save the last day's closing price\n",
    "closing_price = {}\n",
    "for ticker in list_of_tickers:\n",
    "    closing_price[ticker] = historical_data.iloc[-1][ticker]\n",
    "closing_price"
   ]
  },
  {
   "cell_type": "code",
   "execution_count": 121,
   "metadata": {},
   "outputs": [],
   "source": [
    "# Setup the Monte Carlo Parameters\n",
    "number_simulations = 500\n",
    "number_records = 252 * 30\n",
    "\n",
    "# Set the portfolio weights\n",
    "weights = [0.60, 0.40]\n",
    "\n",
    "# Initialize empty DataFrame to hold simulated prices for each simulation\n",
    "simulated_price_df = pd.DataFrame()\n",
    "portfolio_cumulative_returns = pd.DataFrame()"
   ]
  },
  {
   "cell_type": "code",
   "execution_count": null,
   "metadata": {},
   "outputs": [],
   "source": [
    "# Run the simulation of projecting stock prices for the next 30 year\n",
    "for n in range(number_simulations):\n",
    "    \n",
    "    # Iterate through each ticker\n",
    "    for ticker in list_of_tickers:\n",
    "        \n",
    "        # Initialize the simulated prices list with the last closing price\n",
    "        simulated_prices = [closing_price[ticker]]\n",
    "        \n",
    "        # Simulate the returns for 252 days\n",
    "        for i in range(number_records):\n",
    "\n",
    "            # Calculate the simulated price using the last price within the list\n",
    "            simulated_price = simulated_prices[-1] * (1 + np.random.normal(avg_daily_return[ticker], standard_deviation[ticker]))\n",
    "            \n",
    "            # Append the simulated price to the list\n",
    "            simulated_prices.append(simulated_price)\n",
    "        \n",
    "        # Append a simulated prices of each simulation to DataFrame\n",
    "        simulated_price_df[ticker] = pd.Series(simulated_prices)\n",
    "    \n",
    "    # Calculate the daily returns of simulated prices\n",
    "    simulated_daily_returns = simulated_price_df.pct_change()\n",
    "    \n",
    "    # Use the `dot` function with the weights to multiply weights with each column's simulated daily returns\n",
    "    portfolio_daily_returns = simulated_daily_returns.dot(weights)\n",
    "     \n",
    "    print(n)\n",
    "    # Calculate the normalized, cumulative return series\n",
    "    portfolio_cumulative_returns[n] = (1 + portfolio_daily_returns.fillna(0)).cumprod()\n",
    "        "
   ]
  },
  {
   "cell_type": "code",
   "execution_count": 270,
   "metadata": {},
   "outputs": [
    {
     "data": {
      "text/html": [
       "<div>\n",
       "<style scoped>\n",
       "    .dataframe tbody tr th:only-of-type {\n",
       "        vertical-align: middle;\n",
       "    }\n",
       "\n",
       "    .dataframe tbody tr th {\n",
       "        vertical-align: top;\n",
       "    }\n",
       "\n",
       "    .dataframe thead th {\n",
       "        text-align: right;\n",
       "    }\n",
       "</style>\n",
       "<table border=\"1\" class=\"dataframe\">\n",
       "  <thead>\n",
       "    <tr style=\"text-align: right;\">\n",
       "      <th></th>\n",
       "      <th>0</th>\n",
       "      <th>1</th>\n",
       "      <th>2</th>\n",
       "      <th>3</th>\n",
       "      <th>4</th>\n",
       "      <th>5</th>\n",
       "      <th>6</th>\n",
       "      <th>7</th>\n",
       "      <th>8</th>\n",
       "      <th>9</th>\n",
       "      <th>...</th>\n",
       "      <th>490</th>\n",
       "      <th>491</th>\n",
       "      <th>492</th>\n",
       "      <th>493</th>\n",
       "      <th>494</th>\n",
       "      <th>495</th>\n",
       "      <th>496</th>\n",
       "      <th>497</th>\n",
       "      <th>498</th>\n",
       "      <th>499</th>\n",
       "    </tr>\n",
       "  </thead>\n",
       "  <tbody>\n",
       "    <tr>\n",
       "      <th>0</th>\n",
       "      <td>1.000000</td>\n",
       "      <td>1.000000</td>\n",
       "      <td>1.000000</td>\n",
       "      <td>1.000000</td>\n",
       "      <td>1.000000</td>\n",
       "      <td>1.000000</td>\n",
       "      <td>1.000000</td>\n",
       "      <td>1.000000</td>\n",
       "      <td>1.000000</td>\n",
       "      <td>1.000000</td>\n",
       "      <td>...</td>\n",
       "      <td>1.000000</td>\n",
       "      <td>1.000000</td>\n",
       "      <td>1.000000</td>\n",
       "      <td>1.000000</td>\n",
       "      <td>1.000000</td>\n",
       "      <td>1.000000</td>\n",
       "      <td>1.000000</td>\n",
       "      <td>1.000000</td>\n",
       "      <td>1.000000</td>\n",
       "      <td>1.000000</td>\n",
       "    </tr>\n",
       "    <tr>\n",
       "      <th>1</th>\n",
       "      <td>0.976306</td>\n",
       "      <td>1.002256</td>\n",
       "      <td>1.013769</td>\n",
       "      <td>1.025005</td>\n",
       "      <td>0.978297</td>\n",
       "      <td>1.008362</td>\n",
       "      <td>0.992420</td>\n",
       "      <td>1.023479</td>\n",
       "      <td>0.986763</td>\n",
       "      <td>1.034196</td>\n",
       "      <td>...</td>\n",
       "      <td>1.004895</td>\n",
       "      <td>1.009263</td>\n",
       "      <td>0.991833</td>\n",
       "      <td>0.985539</td>\n",
       "      <td>0.955785</td>\n",
       "      <td>1.010044</td>\n",
       "      <td>0.993416</td>\n",
       "      <td>0.971047</td>\n",
       "      <td>1.047423</td>\n",
       "      <td>0.997118</td>\n",
       "    </tr>\n",
       "    <tr>\n",
       "      <th>2</th>\n",
       "      <td>1.003797</td>\n",
       "      <td>0.976201</td>\n",
       "      <td>1.035133</td>\n",
       "      <td>1.031471</td>\n",
       "      <td>0.966204</td>\n",
       "      <td>1.003376</td>\n",
       "      <td>1.023918</td>\n",
       "      <td>1.003035</td>\n",
       "      <td>1.000209</td>\n",
       "      <td>1.011780</td>\n",
       "      <td>...</td>\n",
       "      <td>0.967383</td>\n",
       "      <td>1.002400</td>\n",
       "      <td>1.011216</td>\n",
       "      <td>0.994911</td>\n",
       "      <td>0.956348</td>\n",
       "      <td>1.060399</td>\n",
       "      <td>0.961376</td>\n",
       "      <td>1.010313</td>\n",
       "      <td>1.055253</td>\n",
       "      <td>0.989102</td>\n",
       "    </tr>\n",
       "    <tr>\n",
       "      <th>3</th>\n",
       "      <td>0.998297</td>\n",
       "      <td>0.963366</td>\n",
       "      <td>1.055870</td>\n",
       "      <td>1.015938</td>\n",
       "      <td>0.968046</td>\n",
       "      <td>1.005815</td>\n",
       "      <td>1.029566</td>\n",
       "      <td>1.018094</td>\n",
       "      <td>1.012120</td>\n",
       "      <td>1.010531</td>\n",
       "      <td>...</td>\n",
       "      <td>0.968558</td>\n",
       "      <td>0.979622</td>\n",
       "      <td>1.012140</td>\n",
       "      <td>0.977091</td>\n",
       "      <td>0.979368</td>\n",
       "      <td>1.060371</td>\n",
       "      <td>0.978409</td>\n",
       "      <td>1.055628</td>\n",
       "      <td>1.054656</td>\n",
       "      <td>0.952428</td>\n",
       "    </tr>\n",
       "    <tr>\n",
       "      <th>4</th>\n",
       "      <td>1.007892</td>\n",
       "      <td>0.966814</td>\n",
       "      <td>1.044445</td>\n",
       "      <td>1.044752</td>\n",
       "      <td>0.956484</td>\n",
       "      <td>0.989955</td>\n",
       "      <td>1.040661</td>\n",
       "      <td>1.011302</td>\n",
       "      <td>1.000813</td>\n",
       "      <td>1.018566</td>\n",
       "      <td>...</td>\n",
       "      <td>1.006040</td>\n",
       "      <td>0.995533</td>\n",
       "      <td>0.986972</td>\n",
       "      <td>0.969137</td>\n",
       "      <td>0.992829</td>\n",
       "      <td>1.043889</td>\n",
       "      <td>0.986794</td>\n",
       "      <td>1.057967</td>\n",
       "      <td>1.093620</td>\n",
       "      <td>0.940065</td>\n",
       "    </tr>\n",
       "  </tbody>\n",
       "</table>\n",
       "<p>5 rows × 500 columns</p>\n",
       "</div>"
      ],
      "text/plain": [
       "        0         1         2         3         4         5         6    \\\n",
       "0  1.000000  1.000000  1.000000  1.000000  1.000000  1.000000  1.000000   \n",
       "1  0.976306  1.002256  1.013769  1.025005  0.978297  1.008362  0.992420   \n",
       "2  1.003797  0.976201  1.035133  1.031471  0.966204  1.003376  1.023918   \n",
       "3  0.998297  0.963366  1.055870  1.015938  0.968046  1.005815  1.029566   \n",
       "4  1.007892  0.966814  1.044445  1.044752  0.956484  0.989955  1.040661   \n",
       "\n",
       "        7         8         9    ...       490       491       492       493  \\\n",
       "0  1.000000  1.000000  1.000000  ...  1.000000  1.000000  1.000000  1.000000   \n",
       "1  1.023479  0.986763  1.034196  ...  1.004895  1.009263  0.991833  0.985539   \n",
       "2  1.003035  1.000209  1.011780  ...  0.967383  1.002400  1.011216  0.994911   \n",
       "3  1.018094  1.012120  1.010531  ...  0.968558  0.979622  1.012140  0.977091   \n",
       "4  1.011302  1.000813  1.018566  ...  1.006040  0.995533  0.986972  0.969137   \n",
       "\n",
       "        494       495       496       497       498       499  \n",
       "0  1.000000  1.000000  1.000000  1.000000  1.000000  1.000000  \n",
       "1  0.955785  1.010044  0.993416  0.971047  1.047423  0.997118  \n",
       "2  0.956348  1.060399  0.961376  1.010313  1.055253  0.989102  \n",
       "3  0.979368  1.060371  0.978409  1.055628  1.054656  0.952428  \n",
       "4  0.992829  1.043889  0.986794  1.057967  1.093620  0.940065  \n",
       "\n",
       "[5 rows x 500 columns]"
      ]
     },
     "execution_count": 270,
     "metadata": {},
     "output_type": "execute_result"
    }
   ],
   "source": [
    "# Print records from the DataFrame\n",
    "portfolio_cumulative_returns.head()"
   ]
  },
  {
   "cell_type": "code",
   "execution_count": 269,
   "metadata": {},
   "outputs": [
    {
     "data": {
      "text/plain": [
       "[Text(0, 0.5, 'Cumulative Return'), Text(0.5, 0, 'No. of Days')]"
      ]
     },
     "execution_count": 269,
     "metadata": {},
     "output_type": "execute_result"
    },
    {
     "data": {
      "image/png": "[encoded data removed]",
      "text/plain": [
       "<Figure size 432x288 with 1 Axes>"
      ]
     },
     "metadata": {
      "needs_background": "light"
     },
     "output_type": "display_data"
    }
   ],
   "source": [
    " # Visualize `500` simulations of the potential trajectories of the portfolio based on next 30 years\n",
    "plot_title = f\"{n+1} Simulations of Cumulative Portfolio Return Trajectories Over the Next 30 year\"\n",
    "\n",
    "ax = portfolio_cumulative_returns.plot(legend=None, title=plot_title)\n",
    "ax.set(xlabel='No. of Days', ylabel='Cumulative Return' )"
   ]
  },
  {
   "cell_type": "code",
   "execution_count": 128,
   "metadata": {},
   "outputs": [
    {
     "data": {
      "text/plain": [
       "0      33.878454\n",
       "1       1.047916\n",
       "2       2.126542\n",
       "3       6.035502\n",
       "4       2.639398\n",
       "         ...    \n",
       "495     1.473502\n",
       "496     4.944415\n",
       "497    17.504538\n",
       "498     2.745009\n",
       "499     0.860764\n",
       "Name: 7560, Length: 500, dtype: float64"
      ]
     },
     "execution_count": 128,
     "metadata": {},
     "output_type": "execute_result"
    }
   ],
   "source": [
    "# Select the last row for the cumulative returns (cumulative returns at 30 years)\n",
    "ending_cumulative_returns = portfolio_cumulative_returns.iloc[-1,:]\n",
    "ending_cumulative_returns"
   ]
  },
  {
   "cell_type": "code",
   "execution_count": 129,
   "metadata": {},
   "outputs": [
    {
     "data": {
      "text/plain": [
       "0      22.645352\n",
       "1       0.898538\n",
       "2       1.667575\n",
       "3       9.435372\n",
       "4      20.342407\n",
       "         ...    \n",
       "495     1.037007\n",
       "496     4.862520\n",
       "497    14.357670\n",
       "498     1.097895\n",
       "499     0.886699\n",
       "Name: 5040, Length: 500, dtype: float64"
      ]
     },
     "execution_count": 129,
     "metadata": {},
     "output_type": "execute_result"
    }
   ],
   "source": [
    "# Select the last row for the cumulative returns (cumulative returns at 20 years)\n",
    "ending_cumulative_returns_20 = portfolio_cumulative_returns.iloc[20*252,:]\n",
    "ending_cumulative_returns_20"
   ]
  },
  {
   "cell_type": "code",
   "execution_count": 179,
   "metadata": {},
   "outputs": [
    {
     "data": {
      "text/plain": [
       "0.05     0.170608\n",
       "0.95    39.395840\n",
       "Name: 7560, dtype: float64"
      ]
     },
     "execution_count": 179,
     "metadata": {},
     "output_type": "execute_result"
    }
   ],
   "source": [
    "# Display the 90% confidence interval for the ending returns\n",
    "confidence_interval = ending_cumulative_returns.quantile(q=[0.05, 0.95])\n",
    "confidence_interval"
   ]
  },
  {
   "cell_type": "code",
   "execution_count": 180,
   "metadata": {},
   "outputs": [
    {
     "data": {
      "text/plain": [
       "<matplotlib.lines.Line2D at 0x7fd44304ec90>"
      ]
     },
     "execution_count": 180,
     "metadata": {},
     "output_type": "execute_result"
    },
    {
     "data": {
      "image/png": "[encoded data removed]",
      "text/plain": [
       "<Figure size 432x288 with 1 Axes>"
      ]
     },
     "metadata": {
      "needs_background": "light"
     },
     "output_type": "display_data"
    }
   ],
   "source": [
    "# Visualize the distribution of the ending returns\n",
    "plt.figure();\n",
    "ending_cumulative_returns.plot(kind='hist', density=True, bins=40)\n",
    "plt.axvline(confidence_interval.iloc[0], color='r')\n",
    "plt.axvline(confidence_interval.iloc[1], color='r')"
   ]
  },
  {
   "cell_type": "markdown",
   "metadata": {},
   "source": [
    "---"
   ]
  },
  {
   "cell_type": "markdown",
   "metadata": {},
   "source": [
    "# Retirement Analysis\n",
    "\n",
    "In this section, you will use the monte carlo model to answer the following retirement planning questions:\n",
    "\n",
    "1. What are the expected cumulative returns at 30 years for the 10th, 50th, and 90th percentiles?\n",
    "2. Given an initial investment of `$20,000`, what is the expected portfolio return in dollars at the 10th, 50th, and 90th percentiles?\n",
    "3. Given the current projected annual income from the Plaid analysis, will a 4% withdraw rate from the retirement portfolio meet or exceed that value at the 10th percentile?\n",
    "4. How would a 50% increase in the initial investment amount affect the 4% retirement withdrawal?"
   ]
  },
  {
   "cell_type": "markdown",
   "metadata": {},
   "source": [
    "### What are the expected cumulative returns at 30 years for the 10th, 50th, and 90th percentiles?"
   ]
  },
  {
   "cell_type": "code",
   "execution_count": 274,
   "metadata": {},
   "outputs": [],
   "source": [
    "# The expected cumulative returns at 30 years for the 10th, 50th, and 90th percentile\n",
    "expected_cumulative_returns = ending_cumulative_returns.quantile(q=[.1,.5,.9]).round(2)\n",
    "#expected_cumulative_returns"
   ]
  },
  {
   "cell_type": "code",
   "execution_count": 276,
   "metadata": {},
   "outputs": [
    {
     "name": "stdout",
     "output_type": "stream",
     "text": [
      "Expected Cumulative Return at 30 year\n",
      "10th Percentile  : 0.31\n",
      "50th Percentile  : 2.71\n",
      "90th Percentile  : 20.88\n"
     ]
    }
   ],
   "source": [
    "print('Expected Cumulative Return at 30 year')\n",
    "print(f'10th Percentile  : {expected_cumulative_returns[0.1]}')\n",
    "print(f'50th Percentile  : {expected_cumulative_returns[0.5]}')\n",
    "print(f'90th Percentile  : {expected_cumulative_returns[0.9]}')"
   ]
  },
  {
   "cell_type": "markdown",
   "metadata": {},
   "source": [
    "### Given an initial investment of `$20,000`, what is the expected portfolio return in dollars at the 10th, 50th, and 90th percentiles?"
   ]
  },
  {
   "cell_type": "code",
   "execution_count": 278,
   "metadata": {},
   "outputs": [],
   "source": [
    " # Set initial investment\n",
    "initial_investment = 20000\n",
    "\n",
    "# Calculate investment profit/loss of lower and upper bound cumulative portfolio returns\n",
    "expected_portfolio_return = expected_cumulative_returns*initial_investment\n",
    "#expected_portfolio_return"
   ]
  },
  {
   "cell_type": "code",
   "execution_count": 279,
   "metadata": {},
   "outputs": [
    {
     "name": "stdout",
     "output_type": "stream",
     "text": [
      "Expected Portfolio Return at 30 year\n",
      "10th Percentile  : 6200.0$\n",
      "50th Percentile  : 54200.0$\n",
      "90th Percentile  : 417600.0$\n"
     ]
    }
   ],
   "source": [
    "print('Expected Portfolio Return at 30 year')\n",
    "print(f'10th Percentile  : {expected_portfolio_return[0.1]}$')\n",
    "print(f'50th Percentile  : {expected_portfolio_return[0.5]}$')\n",
    "print(f'90th Percentile  : {expected_portfolio_return[0.9]}$')"
   ]
  },
  {
   "cell_type": "markdown",
   "metadata": {},
   "source": [
    "### Given the current projected annual income from the Plaid analysis, will a 4% withdraw rate from the retirement portfolio meet or exceed that value at the 10th percentile?\n",
    "\n",
    "Note: This is effectively saying that 90% of the expected returns will be greater than the return at the 10th percentile, so this can help measure the uncertainty about having enough funds at retirement"
   ]
  },
  {
   "cell_type": "code",
   "execution_count": 280,
   "metadata": {},
   "outputs": [
    {
     "data": {
      "text/plain": [
       "248.0"
      ]
     },
     "execution_count": 280,
     "metadata": {},
     "output_type": "execute_result"
    }
   ],
   "source": [
    "# Portfolio return for new initial investment\n",
    "four_percent_return = expected_portfolio_return[0.1] * 0.04\n",
    "four_percent_return"
   ]
  },
  {
   "cell_type": "code",
   "execution_count": 302,
   "metadata": {},
   "outputs": [
    {
     "name": "stdout",
     "output_type": "stream",
     "text": [
      "The current projected annual income is 6085$, 4% withdraw rate from the retirement portfolio is 248$ doesn't meet the value at the 10th percentile\n"
     ]
    }
   ],
   "source": [
    "# The current projected annual income from Plaid Analysis\n",
    "projected_annual_income = 6085.0\n",
    "\n",
    "# Checks whether 4% return in retirement portfolio meets Projected annual income\n",
    "status = 'does meet' if four_percent_return>projected_annual_income else 'doesn\\'t meet'\n",
    "\n",
    "print(f'The current projected annual income is {int(projected_annual_income)}$, 4% withdraw rate from the retirement portfolio is {int(four_percent_return)}$ {status} the value at the 10th percentile')\n"
   ]
  },
  {
   "cell_type": "markdown",
   "metadata": {},
   "source": [
    "### How would a 50% increase in the initial investment amount affect the 4% retirement withdrawal?"
   ]
  },
  {
   "cell_type": "code",
   "execution_count": 307,
   "metadata": {},
   "outputs": [
    {
     "name": "stdout",
     "output_type": "stream",
     "text": [
      "The 50% increase in the initial investment amount is 30000$, does exceeds the value at the 10th percentile which is 25056$ after 4% withdraw rate from the retirement portfolio\n"
     ]
    }
   ],
   "source": [
    "# Initial investment after 50% increase in the original investment\n",
    "increased_initial_investment = initial_investment * 1.50\n",
    "\n",
    "# Calculate the 4% return for new initial investment\n",
    "new_four_percent_return = (expected_cumulative_returns[0.9]*increased_initial_investment) * 0.04\n",
    "\n",
    "# Checks whether 4% return in retirement portfolio meets Projected annual income\n",
    "new_status = 'does exceeds' if new_four_percent_return>projected_annual_income else 'doesn\\'t exceeds'\n",
    "\n",
    "print(f'The 50% increase in the initial investment amount is {int(increased_initial_investment)}$, {new_status} the value at the 10th percentile which is {int(new_four_percent_return)}$ after 4% withdraw rate from the retirement portfolio')\n"
   ]
  },
  {
   "cell_type": "markdown",
   "metadata": {},
   "source": [
    "### Optional Challenge\n",
    "\n",
    "In this section, you will calculate and plot the cumulative returns for the median and 90% confidence intervals. This plot shows the expected cumulative returns for any given day between the first day and the last day of investment. "
   ]
  },
  {
   "cell_type": "code",
   "execution_count": 308,
   "metadata": {},
   "outputs": [
    {
     "data": {
      "text/plain": [
       "[Text(0, 0.5, 'Portfolio Return'), Text(0.5, 0, 'No of Days')]"
      ]
     },
     "execution_count": 308,
     "metadata": {},
     "output_type": "execute_result"
    },
    {
     "data": {
      "image/png": "[encoded data removed]",
      "text/plain": [
       "<Figure size 432x288 with 1 Axes>"
      ]
     },
     "metadata": {
      "needs_background": "light"
     },
     "output_type": "display_data"
    }
   ],
   "source": [
    "df = portfolio_cumulative_returns * initial_investment\n",
    "ax = df.swapaxes(\"index\", \"columns\").quantile([0.05, 0.5, 0.95]).swapaxes('index', 'columns').plot(title='Portfolio Performance over Time')\n",
    "ax.set(xlabel='No of Days', ylabel='Portfolio Return')"
   ]
  },
  {
   "cell_type": "code",
   "execution_count": null,
   "metadata": {},
   "outputs": [],
   "source": []
  }
 ],
 "metadata": {
  "kernel_info": {
   "name": "dev"
  },
  "kernelspec": {
   "display_name": "Python 3",
   "language": "python",
   "name": "python3"
  },
  "language_info": {
   "codemirror_mode": {
    "name": "ipython",
    "version": 3
   },
   "file_extension": ".py",
   "mimetype": "text/x-python",
   "name": "python",
   "nbconvert_exporter": "python",
   "pygments_lexer": "ipython3",
   "version": "3.7.6"
  },
  "nteract": {
   "version": "0.12.3"
  }
 },
 "nbformat": 4,
 "nbformat_minor": 4
}
