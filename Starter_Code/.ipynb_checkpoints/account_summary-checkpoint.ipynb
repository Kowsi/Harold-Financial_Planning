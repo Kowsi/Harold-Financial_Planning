{
 "cells": [
  {
   "cell_type": "code",
   "execution_count": 126,
   "metadata": {},
   "outputs": [],
   "source": [
    "import os\n",
    "import plaid\n",
    "import requests\n",
    "import datetime\n",
    "import json\n",
    "import pandas as pd\n",
    "%matplotlib inline"
   ]
  },
  {
   "cell_type": "code",
   "execution_count": 127,
   "metadata": {},
   "outputs": [],
   "source": [
    "def pretty_print_response(response):\n",
    "  print(json.dumps(response, indent=4, sort_keys=True))"
   ]
  },
  {
   "cell_type": "code",
   "execution_count": 129,
   "metadata": {},
   "outputs": [],
   "source": [
    "PLAID_CLIENT_ID = os.getenv('PLAID_CLIENT_ID')\n",
    "PLAID_SECRET = os.getenv('PLAID_SBX_SECRET_KEY')\n",
    "PLAID_PUBLIC_KEY = os.getenv('PLAID_PUBLIC_KEY')\n",
    "PLAID_ENV = os.getenv('PLAID_ENV', 'sandbox')\n",
    "PLAID_PRODUCTS = os.getenv('PLAID_PRODUCTS', 'transactions')"
   ]
  },
  {
   "cell_type": "markdown",
   "metadata": {},
   "source": [
    "# Plaid Access Token\n",
    "\n",
    "In this section, you will use the plaid-python api to generate the correct authentication tokens to access data in the free developer Sandbox. This mimics how you might connect to your own account or a customer account, but due to privacy issues, this homework will only require connecting to and analyzing the fake data from the developer sandbox that Plaid provides. \n",
    "\n",
    "Complete the following steps to generate an access token:\n",
    "1. Create a client to connect to plaid\n",
    "2. Use the client to generate a public token and request the following items: \n",
    "['transactions', 'income', 'assets']\n",
    "3. Exchange the public token for an access token\n",
    "4. Test the access token by requesting and printing the available test accounts"
   ]
  },
  {
   "cell_type": "markdown",
   "metadata": {},
   "source": [
    "### 1. Create a client to connect to plaid"
   ]
  },
  {
   "cell_type": "code",
   "execution_count": 130,
   "metadata": {},
   "outputs": [],
   "source": [
    "INSTITUTION_ID = \"ins_109508\""
   ]
  },
  {
   "cell_type": "code",
   "execution_count": 131,
   "metadata": {},
   "outputs": [],
   "source": [
    "client = plaid.Client(client_id=PLAID_CLIENT_ID, secret=PLAID_SECRET, public_key=PLAID_PUBLIC_KEY, environment=PLAID_ENV)"
   ]
  },
  {
   "cell_type": "markdown",
   "metadata": {},
   "source": [
    "### 2. Generate a public token"
   ]
  },
  {
   "cell_type": "code",
   "execution_count": 132,
   "metadata": {},
   "outputs": [],
   "source": [
    "create_public_token = client.Sandbox.public_token.create(INSTITUTION_ID, ['transactions','income','assets'])"
   ]
  },
  {
   "cell_type": "markdown",
   "metadata": {},
   "source": [
    "### 3. Exchange the public token for an access token"
   ]
  },
  {
   "cell_type": "code",
   "execution_count": 134,
   "metadata": {},
   "outputs": [],
   "source": [
    "exchange_response = client.Item.public_token.exchange(create_public_token['public_token'])\n",
    "access_token = exchange_response['access_token']"
   ]
  },
  {
   "cell_type": "markdown",
   "metadata": {},
   "source": [
    "### 4. Fetch Accounts"
   ]
  },
  {
   "cell_type": "code",
   "execution_count": 135,
   "metadata": {},
   "outputs": [
    {
     "data": {
      "text/plain": [
       "{'accounts': [{'account_id': '3l1yZRnaQ7t9W9G5R1GgtkKEbylvE5tqRAKRP',\n",
       "   'balances': {'available': 100,\n",
       "    'current': 110,\n",
       "    'iso_currency_code': 'USD',\n",
       "    'limit': None,\n",
       "    'unofficial_currency_code': None},\n",
       "   'mask': '0000',\n",
       "   'name': 'Plaid Checking',\n",
       "   'official_name': 'Plaid Gold Standard 0% Interest Checking',\n",
       "   'subtype': 'checking',\n",
       "   'type': 'depository'},\n",
       "  {'account_id': 'xblA6jDoEetgAgxbPzxrfZjDzp7RDwCnB1pBk',\n",
       "   'balances': {'available': 200,\n",
       "    'current': 210,\n",
       "    'iso_currency_code': 'USD',\n",
       "    'limit': None,\n",
       "    'unofficial_currency_code': None},\n",
       "   'mask': '1111',\n",
       "   'name': 'Plaid Saving',\n",
       "   'official_name': 'Plaid Silver Standard 0.1% Interest Saving',\n",
       "   'subtype': 'savings',\n",
       "   'type': 'depository'},\n",
       "  {'account_id': 'd4ExRLMKGnCMqME4WlEAFBePmplbPLiZak5aX',\n",
       "   'balances': {'available': None,\n",
       "    'current': 1000,\n",
       "    'iso_currency_code': 'USD',\n",
       "    'limit': None,\n",
       "    'unofficial_currency_code': None},\n",
       "   'mask': '2222',\n",
       "   'name': 'Plaid CD',\n",
       "   'official_name': 'Plaid Bronze Standard 0.2% Interest CD',\n",
       "   'subtype': 'cd',\n",
       "   'type': 'depository'},\n",
       "  {'account_id': 'Zl7vk4ELd1tgMgElKQE8f9AGXaXE4LUgl3AlW',\n",
       "   'balances': {'available': None,\n",
       "    'current': 410,\n",
       "    'iso_currency_code': 'USD',\n",
       "    'limit': 2000,\n",
       "    'unofficial_currency_code': None},\n",
       "   'mask': '3333',\n",
       "   'name': 'Plaid Credit Card',\n",
       "   'official_name': 'Plaid Diamond 12.5% APR Interest Credit Card',\n",
       "   'subtype': 'credit card',\n",
       "   'type': 'credit'},\n",
       "  {'account_id': 'MWqpn8gxE3TKxKkV5rkEu4RGDzD5Pxf9yKwyG',\n",
       "   'balances': {'available': 43200,\n",
       "    'current': 43200,\n",
       "    'iso_currency_code': 'USD',\n",
       "    'limit': None,\n",
       "    'unofficial_currency_code': None},\n",
       "   'mask': '4444',\n",
       "   'name': 'Plaid Money Market',\n",
       "   'official_name': 'Plaid Platinum Standard 1.85% Interest Money Market',\n",
       "   'subtype': 'money market',\n",
       "   'type': 'depository'},\n",
       "  {'account_id': '1XZbAR6xPkfVnVl5qolGt6GZ1x1PbjC5ozLov',\n",
       "   'balances': {'available': None,\n",
       "    'current': 320.76,\n",
       "    'iso_currency_code': 'USD',\n",
       "    'limit': None,\n",
       "    'unofficial_currency_code': None},\n",
       "   'mask': '5555',\n",
       "   'name': 'Plaid IRA',\n",
       "   'official_name': None,\n",
       "   'subtype': 'ira',\n",
       "   'type': 'investment'},\n",
       "  {'account_id': 'LElLAkp3gBfAvAZx5KZJCeMj919mw8iPa7vav',\n",
       "   'balances': {'available': None,\n",
       "    'current': 23631.9805,\n",
       "    'iso_currency_code': 'USD',\n",
       "    'limit': None,\n",
       "    'unofficial_currency_code': None},\n",
       "   'mask': '6666',\n",
       "   'name': 'Plaid 401k',\n",
       "   'official_name': None,\n",
       "   'subtype': '401k',\n",
       "   'type': 'investment'},\n",
       "  {'account_id': 'pow16BM7axUvNvbozkb7Uqza9693PZULnwyn7',\n",
       "   'balances': {'available': None,\n",
       "    'current': 65262,\n",
       "    'iso_currency_code': 'USD',\n",
       "    'limit': None,\n",
       "    'unofficial_currency_code': None},\n",
       "   'mask': '7777',\n",
       "   'name': 'Plaid Student Loan',\n",
       "   'official_name': None,\n",
       "   'subtype': 'student',\n",
       "   'type': 'loan'}],\n",
       " 'item': {'available_products': ['auth',\n",
       "   'balance',\n",
       "   'credit_details',\n",
       "   'identity',\n",
       "   'investments',\n",
       "   'liabilities'],\n",
       "  'billed_products': ['assets', 'income', 'transactions'],\n",
       "  'consent_expiration_time': None,\n",
       "  'error': None,\n",
       "  'institution_id': 'ins_109508',\n",
       "  'item_id': 'gj94DgMBvycmgmGjeNG3C3bmZkNw6Dig57ZD3',\n",
       "  'webhook': ''},\n",
       " 'request_id': 'UzvujBiyJJF6B3B'}"
      ]
     },
     "execution_count": 135,
     "metadata": {},
     "output_type": "execute_result"
    }
   ],
   "source": [
    "# Get accounts associated with institution\n",
    "client.Accounts.get(access_token)"
   ]
  },
  {
   "cell_type": "markdown",
   "metadata": {},
   "source": [
    "---"
   ]
  },
  {
   "cell_type": "markdown",
   "metadata": {},
   "source": [
    "# Account Transactions with Plaid\n",
    "\n",
    "In this section, you will use the Plaid Python SDK to connect to the Developer Sandbox account and grab a list of transactions. You will need to complete the following steps:\n",
    "\n",
    "\n",
    "1. Use the access token to fetch the transactions for the last 90 days\n",
    "2. Print the categories for each transaction type\n",
    "3. Create a new DataFrame using the following fields from the JSON transaction data: `date, name, amount, category`. (For categories with more than one label, just use the first category label in the list)\n",
    "4. Convert the data types to the appropriate types (i.e. datetimeindex for the date and float for the amount)"
   ]
  },
  {
   "cell_type": "markdown",
   "metadata": {},
   "source": [
    "### 1. Fetch the Transactions for the last 90 days"
   ]
  },
  {
   "cell_type": "code",
   "execution_count": 145,
   "metadata": {},
   "outputs": [
    {
     "name": "stdout",
     "output_type": "stream",
     "text": [
      "{'total_transactions', 'transactions', 'item', 'request_id', 'accounts'}\n"
     ]
    }
   ],
   "source": [
    "# Get transactions for institution for specific date range\n",
    "start_date = '{:%Y-%m-%d}'.format(datetime.datetime.now() + datetime.timedelta(-90))\n",
    "end_date = '{:%Y-%m-%d}'.format(datetime.datetime.now())\n",
    "\n",
    "# Get transactions for date range\n",
    "transaction_data = client.Transactions.get(access_token, start_date, end_date)\n",
    "print({k for k,v in transaction_data.items()})"
   ]
  },
  {
   "cell_type": "markdown",
   "metadata": {},
   "source": [
    "### 2. Print the categories for each transaction"
   ]
  },
  {
   "cell_type": "code",
   "execution_count": 147,
   "metadata": {},
   "outputs": [
    {
     "data": {
      "text/plain": [
       "{'Airlines and Aviation Services',\n",
       " 'Coffee Shop',\n",
       " 'Credit',\n",
       " 'Credit Card',\n",
       " 'Debit',\n",
       " 'Deposit',\n",
       " 'Fast Food',\n",
       " 'Food and Drink',\n",
       " 'Gyms and Fitness Centers',\n",
       " 'Payment',\n",
       " 'Recreation',\n",
       " 'Restaurants',\n",
       " 'Shops',\n",
       " 'Sporting Goods',\n",
       " 'Taxi',\n",
       " 'Transfer',\n",
       " 'Travel'}"
      ]
     },
     "execution_count": 147,
     "metadata": {},
     "output_type": "execute_result"
    }
   ],
   "source": [
    "#pretty_print_response(transaction_data[PLAID_PRODUCTS])\n",
    "categories = set()\n",
    "for tansaction in transaction_data[PLAID_PRODUCTS]:\n",
    "    categories.update(tansaction['category'])\n",
    "\n",
    "categories"
   ]
  },
  {
   "cell_type": "markdown",
   "metadata": {},
   "source": [
    "### 3. Create a new DataFrame using the following fields from the JSON transaction data: date, name, amount, category. \n",
    "\n",
    "(For categories with more than one label, just use the first category label in the list)"
   ]
  },
  {
   "cell_type": "code",
   "execution_count": 151,
   "metadata": {},
   "outputs": [
    {
     "data": {
      "text/html": [
       "<div>\n",
       "<style scoped>\n",
       "    .dataframe tbody tr th:only-of-type {\n",
       "        vertical-align: middle;\n",
       "    }\n",
       "\n",
       "    .dataframe tbody tr th {\n",
       "        vertical-align: top;\n",
       "    }\n",
       "\n",
       "    .dataframe thead th {\n",
       "        text-align: right;\n",
       "    }\n",
       "</style>\n",
       "<table border=\"1\" class=\"dataframe\">\n",
       "  <thead>\n",
       "    <tr style=\"text-align: right;\">\n",
       "      <th></th>\n",
       "      <th>date</th>\n",
       "      <th>name</th>\n",
       "      <th>amount</th>\n",
       "      <th>category</th>\n",
       "    </tr>\n",
       "  </thead>\n",
       "  <tbody>\n",
       "    <tr>\n",
       "      <th>0</th>\n",
       "      <td>2020-04-15</td>\n",
       "      <td>CREDIT CARD 3333 PAYMENT *//</td>\n",
       "      <td>25.00</td>\n",
       "      <td>Payment</td>\n",
       "    </tr>\n",
       "    <tr>\n",
       "      <th>1</th>\n",
       "      <td>2020-04-15</td>\n",
       "      <td>Uber</td>\n",
       "      <td>5.40</td>\n",
       "      <td>Travel</td>\n",
       "    </tr>\n",
       "    <tr>\n",
       "      <th>2</th>\n",
       "      <td>2020-04-14</td>\n",
       "      <td>ACH Electronic CreditGUSTO PAY 123456</td>\n",
       "      <td>5850.00</td>\n",
       "      <td>Transfer</td>\n",
       "    </tr>\n",
       "    <tr>\n",
       "      <th>3</th>\n",
       "      <td>2020-04-14</td>\n",
       "      <td>CD DEPOSIT .INITIAL.</td>\n",
       "      <td>1000.00</td>\n",
       "      <td>Transfer</td>\n",
       "    </tr>\n",
       "    <tr>\n",
       "      <th>4</th>\n",
       "      <td>2020-04-13</td>\n",
       "      <td>Touchstone Climbing</td>\n",
       "      <td>78.50</td>\n",
       "      <td>Recreation</td>\n",
       "    </tr>\n",
       "    <tr>\n",
       "      <th>5</th>\n",
       "      <td>2020-04-13</td>\n",
       "      <td>United Airlines</td>\n",
       "      <td>-500.00</td>\n",
       "      <td>Travel</td>\n",
       "    </tr>\n",
       "    <tr>\n",
       "      <th>6</th>\n",
       "      <td>2020-04-12</td>\n",
       "      <td>McDonald's</td>\n",
       "      <td>12.00</td>\n",
       "      <td>Food and Drink</td>\n",
       "    </tr>\n",
       "    <tr>\n",
       "      <th>7</th>\n",
       "      <td>2020-04-12</td>\n",
       "      <td>Starbucks</td>\n",
       "      <td>4.33</td>\n",
       "      <td>Food and Drink</td>\n",
       "    </tr>\n",
       "    <tr>\n",
       "      <th>8</th>\n",
       "      <td>2020-04-11</td>\n",
       "      <td>SparkFun</td>\n",
       "      <td>89.40</td>\n",
       "      <td>Food and Drink</td>\n",
       "    </tr>\n",
       "    <tr>\n",
       "      <th>9</th>\n",
       "      <td>2020-04-10</td>\n",
       "      <td>INTRST PYMNT</td>\n",
       "      <td>-4.22</td>\n",
       "      <td>Transfer</td>\n",
       "    </tr>\n",
       "    <tr>\n",
       "      <th>10</th>\n",
       "      <td>2020-03-31</td>\n",
       "      <td>United Airlines</td>\n",
       "      <td>500.00</td>\n",
       "      <td>Travel</td>\n",
       "    </tr>\n",
       "    <tr>\n",
       "      <th>11</th>\n",
       "      <td>2020-03-29</td>\n",
       "      <td>Uber</td>\n",
       "      <td>6.33</td>\n",
       "      <td>Travel</td>\n",
       "    </tr>\n",
       "    <tr>\n",
       "      <th>12</th>\n",
       "      <td>2020-03-26</td>\n",
       "      <td>Tectra Inc</td>\n",
       "      <td>500.00</td>\n",
       "      <td>Food and Drink</td>\n",
       "    </tr>\n",
       "    <tr>\n",
       "      <th>13</th>\n",
       "      <td>2020-03-25</td>\n",
       "      <td>AUTOMATIC PAYMENT - THANK</td>\n",
       "      <td>2078.50</td>\n",
       "      <td>Payment</td>\n",
       "    </tr>\n",
       "    <tr>\n",
       "      <th>14</th>\n",
       "      <td>2020-03-25</td>\n",
       "      <td>KFC</td>\n",
       "      <td>500.00</td>\n",
       "      <td>Food and Drink</td>\n",
       "    </tr>\n",
       "    <tr>\n",
       "      <th>15</th>\n",
       "      <td>2020-03-25</td>\n",
       "      <td>Madison Bicycle Shop</td>\n",
       "      <td>500.00</td>\n",
       "      <td>Shops</td>\n",
       "    </tr>\n",
       "    <tr>\n",
       "      <th>16</th>\n",
       "      <td>2020-03-16</td>\n",
       "      <td>CREDIT CARD 3333 PAYMENT *//</td>\n",
       "      <td>25.00</td>\n",
       "      <td>Payment</td>\n",
       "    </tr>\n",
       "    <tr>\n",
       "      <th>17</th>\n",
       "      <td>2020-03-16</td>\n",
       "      <td>Uber</td>\n",
       "      <td>5.40</td>\n",
       "      <td>Travel</td>\n",
       "    </tr>\n",
       "    <tr>\n",
       "      <th>18</th>\n",
       "      <td>2020-03-15</td>\n",
       "      <td>ACH Electronic CreditGUSTO PAY 123456</td>\n",
       "      <td>5850.00</td>\n",
       "      <td>Transfer</td>\n",
       "    </tr>\n",
       "    <tr>\n",
       "      <th>19</th>\n",
       "      <td>2020-03-15</td>\n",
       "      <td>CD DEPOSIT .INITIAL.</td>\n",
       "      <td>1000.00</td>\n",
       "      <td>Transfer</td>\n",
       "    </tr>\n",
       "    <tr>\n",
       "      <th>20</th>\n",
       "      <td>2020-03-14</td>\n",
       "      <td>Touchstone Climbing</td>\n",
       "      <td>78.50</td>\n",
       "      <td>Recreation</td>\n",
       "    </tr>\n",
       "    <tr>\n",
       "      <th>21</th>\n",
       "      <td>2020-03-14</td>\n",
       "      <td>United Airlines</td>\n",
       "      <td>-500.00</td>\n",
       "      <td>Travel</td>\n",
       "    </tr>\n",
       "    <tr>\n",
       "      <th>22</th>\n",
       "      <td>2020-03-13</td>\n",
       "      <td>McDonald's</td>\n",
       "      <td>12.00</td>\n",
       "      <td>Food and Drink</td>\n",
       "    </tr>\n",
       "    <tr>\n",
       "      <th>23</th>\n",
       "      <td>2020-03-13</td>\n",
       "      <td>Starbucks</td>\n",
       "      <td>4.33</td>\n",
       "      <td>Food and Drink</td>\n",
       "    </tr>\n",
       "    <tr>\n",
       "      <th>24</th>\n",
       "      <td>2020-03-12</td>\n",
       "      <td>SparkFun</td>\n",
       "      <td>89.40</td>\n",
       "      <td>Food and Drink</td>\n",
       "    </tr>\n",
       "    <tr>\n",
       "      <th>25</th>\n",
       "      <td>2020-03-11</td>\n",
       "      <td>INTRST PYMNT</td>\n",
       "      <td>-4.22</td>\n",
       "      <td>Transfer</td>\n",
       "    </tr>\n",
       "    <tr>\n",
       "      <th>26</th>\n",
       "      <td>2020-03-01</td>\n",
       "      <td>United Airlines</td>\n",
       "      <td>500.00</td>\n",
       "      <td>Travel</td>\n",
       "    </tr>\n",
       "    <tr>\n",
       "      <th>27</th>\n",
       "      <td>2020-02-28</td>\n",
       "      <td>Uber</td>\n",
       "      <td>6.33</td>\n",
       "      <td>Travel</td>\n",
       "    </tr>\n",
       "    <tr>\n",
       "      <th>28</th>\n",
       "      <td>2020-02-25</td>\n",
       "      <td>Tectra Inc</td>\n",
       "      <td>500.00</td>\n",
       "      <td>Food and Drink</td>\n",
       "    </tr>\n",
       "    <tr>\n",
       "      <th>29</th>\n",
       "      <td>2020-02-24</td>\n",
       "      <td>AUTOMATIC PAYMENT - THANK</td>\n",
       "      <td>2078.50</td>\n",
       "      <td>Payment</td>\n",
       "    </tr>\n",
       "    <tr>\n",
       "      <th>30</th>\n",
       "      <td>2020-02-24</td>\n",
       "      <td>KFC</td>\n",
       "      <td>500.00</td>\n",
       "      <td>Food and Drink</td>\n",
       "    </tr>\n",
       "    <tr>\n",
       "      <th>31</th>\n",
       "      <td>2020-02-24</td>\n",
       "      <td>Madison Bicycle Shop</td>\n",
       "      <td>500.00</td>\n",
       "      <td>Shops</td>\n",
       "    </tr>\n",
       "    <tr>\n",
       "      <th>32</th>\n",
       "      <td>2020-02-15</td>\n",
       "      <td>CREDIT CARD 3333 PAYMENT *//</td>\n",
       "      <td>25.00</td>\n",
       "      <td>Payment</td>\n",
       "    </tr>\n",
       "    <tr>\n",
       "      <th>33</th>\n",
       "      <td>2020-02-15</td>\n",
       "      <td>Uber</td>\n",
       "      <td>5.40</td>\n",
       "      <td>Travel</td>\n",
       "    </tr>\n",
       "    <tr>\n",
       "      <th>34</th>\n",
       "      <td>2020-02-14</td>\n",
       "      <td>ACH Electronic CreditGUSTO PAY 123456</td>\n",
       "      <td>5850.00</td>\n",
       "      <td>Transfer</td>\n",
       "    </tr>\n",
       "    <tr>\n",
       "      <th>35</th>\n",
       "      <td>2020-02-14</td>\n",
       "      <td>CD DEPOSIT .INITIAL.</td>\n",
       "      <td>1000.00</td>\n",
       "      <td>Transfer</td>\n",
       "    </tr>\n",
       "    <tr>\n",
       "      <th>36</th>\n",
       "      <td>2020-02-13</td>\n",
       "      <td>Touchstone Climbing</td>\n",
       "      <td>78.50</td>\n",
       "      <td>Recreation</td>\n",
       "    </tr>\n",
       "    <tr>\n",
       "      <th>37</th>\n",
       "      <td>2020-02-13</td>\n",
       "      <td>United Airlines</td>\n",
       "      <td>-500.00</td>\n",
       "      <td>Travel</td>\n",
       "    </tr>\n",
       "    <tr>\n",
       "      <th>38</th>\n",
       "      <td>2020-02-12</td>\n",
       "      <td>McDonald's</td>\n",
       "      <td>12.00</td>\n",
       "      <td>Food and Drink</td>\n",
       "    </tr>\n",
       "    <tr>\n",
       "      <th>39</th>\n",
       "      <td>2020-02-12</td>\n",
       "      <td>Starbucks</td>\n",
       "      <td>4.33</td>\n",
       "      <td>Food and Drink</td>\n",
       "    </tr>\n",
       "    <tr>\n",
       "      <th>40</th>\n",
       "      <td>2020-02-11</td>\n",
       "      <td>SparkFun</td>\n",
       "      <td>89.40</td>\n",
       "      <td>Food and Drink</td>\n",
       "    </tr>\n",
       "    <tr>\n",
       "      <th>41</th>\n",
       "      <td>2020-02-10</td>\n",
       "      <td>INTRST PYMNT</td>\n",
       "      <td>-4.22</td>\n",
       "      <td>Transfer</td>\n",
       "    </tr>\n",
       "    <tr>\n",
       "      <th>42</th>\n",
       "      <td>2020-01-31</td>\n",
       "      <td>United Airlines</td>\n",
       "      <td>500.00</td>\n",
       "      <td>Travel</td>\n",
       "    </tr>\n",
       "    <tr>\n",
       "      <th>43</th>\n",
       "      <td>2020-01-29</td>\n",
       "      <td>Uber</td>\n",
       "      <td>6.33</td>\n",
       "      <td>Travel</td>\n",
       "    </tr>\n",
       "    <tr>\n",
       "      <th>44</th>\n",
       "      <td>2020-01-26</td>\n",
       "      <td>Tectra Inc</td>\n",
       "      <td>500.00</td>\n",
       "      <td>Food and Drink</td>\n",
       "    </tr>\n",
       "    <tr>\n",
       "      <th>45</th>\n",
       "      <td>2020-01-25</td>\n",
       "      <td>AUTOMATIC PAYMENT - THANK</td>\n",
       "      <td>2078.50</td>\n",
       "      <td>Payment</td>\n",
       "    </tr>\n",
       "    <tr>\n",
       "      <th>46</th>\n",
       "      <td>2020-01-25</td>\n",
       "      <td>KFC</td>\n",
       "      <td>500.00</td>\n",
       "      <td>Food and Drink</td>\n",
       "    </tr>\n",
       "    <tr>\n",
       "      <th>47</th>\n",
       "      <td>2020-01-25</td>\n",
       "      <td>Madison Bicycle Shop</td>\n",
       "      <td>500.00</td>\n",
       "      <td>Shops</td>\n",
       "    </tr>\n",
       "  </tbody>\n",
       "</table>\n",
       "</div>"
      ],
      "text/plain": [
       "          date                                   name   amount        category\n",
       "0   2020-04-15           CREDIT CARD 3333 PAYMENT *//    25.00         Payment\n",
       "1   2020-04-15                                   Uber     5.40          Travel\n",
       "2   2020-04-14  ACH Electronic CreditGUSTO PAY 123456  5850.00        Transfer\n",
       "3   2020-04-14                   CD DEPOSIT .INITIAL.  1000.00        Transfer\n",
       "4   2020-04-13                    Touchstone Climbing    78.50      Recreation\n",
       "5   2020-04-13                        United Airlines  -500.00          Travel\n",
       "6   2020-04-12                             McDonald's    12.00  Food and Drink\n",
       "7   2020-04-12                              Starbucks     4.33  Food and Drink\n",
       "8   2020-04-11                               SparkFun    89.40  Food and Drink\n",
       "9   2020-04-10                           INTRST PYMNT    -4.22        Transfer\n",
       "10  2020-03-31                        United Airlines   500.00          Travel\n",
       "11  2020-03-29                                   Uber     6.33          Travel\n",
       "12  2020-03-26                             Tectra Inc   500.00  Food and Drink\n",
       "13  2020-03-25              AUTOMATIC PAYMENT - THANK  2078.50         Payment\n",
       "14  2020-03-25                                    KFC   500.00  Food and Drink\n",
       "15  2020-03-25                   Madison Bicycle Shop   500.00           Shops\n",
       "16  2020-03-16           CREDIT CARD 3333 PAYMENT *//    25.00         Payment\n",
       "17  2020-03-16                                   Uber     5.40          Travel\n",
       "18  2020-03-15  ACH Electronic CreditGUSTO PAY 123456  5850.00        Transfer\n",
       "19  2020-03-15                   CD DEPOSIT .INITIAL.  1000.00        Transfer\n",
       "20  2020-03-14                    Touchstone Climbing    78.50      Recreation\n",
       "21  2020-03-14                        United Airlines  -500.00          Travel\n",
       "22  2020-03-13                             McDonald's    12.00  Food and Drink\n",
       "23  2020-03-13                              Starbucks     4.33  Food and Drink\n",
       "24  2020-03-12                               SparkFun    89.40  Food and Drink\n",
       "25  2020-03-11                           INTRST PYMNT    -4.22        Transfer\n",
       "26  2020-03-01                        United Airlines   500.00          Travel\n",
       "27  2020-02-28                                   Uber     6.33          Travel\n",
       "28  2020-02-25                             Tectra Inc   500.00  Food and Drink\n",
       "29  2020-02-24              AUTOMATIC PAYMENT - THANK  2078.50         Payment\n",
       "30  2020-02-24                                    KFC   500.00  Food and Drink\n",
       "31  2020-02-24                   Madison Bicycle Shop   500.00           Shops\n",
       "32  2020-02-15           CREDIT CARD 3333 PAYMENT *//    25.00         Payment\n",
       "33  2020-02-15                                   Uber     5.40          Travel\n",
       "34  2020-02-14  ACH Electronic CreditGUSTO PAY 123456  5850.00        Transfer\n",
       "35  2020-02-14                   CD DEPOSIT .INITIAL.  1000.00        Transfer\n",
       "36  2020-02-13                    Touchstone Climbing    78.50      Recreation\n",
       "37  2020-02-13                        United Airlines  -500.00          Travel\n",
       "38  2020-02-12                             McDonald's    12.00  Food and Drink\n",
       "39  2020-02-12                              Starbucks     4.33  Food and Drink\n",
       "40  2020-02-11                               SparkFun    89.40  Food and Drink\n",
       "41  2020-02-10                           INTRST PYMNT    -4.22        Transfer\n",
       "42  2020-01-31                        United Airlines   500.00          Travel\n",
       "43  2020-01-29                                   Uber     6.33          Travel\n",
       "44  2020-01-26                             Tectra Inc   500.00  Food and Drink\n",
       "45  2020-01-25              AUTOMATIC PAYMENT - THANK  2078.50         Payment\n",
       "46  2020-01-25                                    KFC   500.00  Food and Drink\n",
       "47  2020-01-25                   Madison Bicycle Shop   500.00           Shops"
      ]
     },
     "execution_count": 151,
     "metadata": {},
     "output_type": "execute_result"
    }
   ],
   "source": [
    "transaction_df = pd.DataFrame(transaction_data[PLAID_PRODUCTS], columns=['date','name','amount', 'category'])\n",
    "transaction_df['category'] = transaction_df['category'].apply(lambda x: x[0])\n",
    "transaction_df"
   ]
  },
  {
   "cell_type": "markdown",
   "metadata": {},
   "source": [
    "### 4. Convert the data types to the appropriate types \n",
    "\n",
    "(i.e. datetimeindex for the date and float for the amount)"
   ]
  },
  {
   "cell_type": "code",
   "execution_count": 152,
   "metadata": {},
   "outputs": [
    {
     "data": {
      "text/html": [
       "<div>\n",
       "<style scoped>\n",
       "    .dataframe tbody tr th:only-of-type {\n",
       "        vertical-align: middle;\n",
       "    }\n",
       "\n",
       "    .dataframe tbody tr th {\n",
       "        vertical-align: top;\n",
       "    }\n",
       "\n",
       "    .dataframe thead th {\n",
       "        text-align: right;\n",
       "    }\n",
       "</style>\n",
       "<table border=\"1\" class=\"dataframe\">\n",
       "  <thead>\n",
       "    <tr style=\"text-align: right;\">\n",
       "      <th></th>\n",
       "      <th>name</th>\n",
       "      <th>amount</th>\n",
       "      <th>category</th>\n",
       "    </tr>\n",
       "    <tr>\n",
       "      <th>date</th>\n",
       "      <th></th>\n",
       "      <th></th>\n",
       "      <th></th>\n",
       "    </tr>\n",
       "  </thead>\n",
       "  <tbody>\n",
       "    <tr>\n",
       "      <th>2020-04-15</th>\n",
       "      <td>CREDIT CARD 3333 PAYMENT *//</td>\n",
       "      <td>25.0</td>\n",
       "      <td>Payment</td>\n",
       "    </tr>\n",
       "    <tr>\n",
       "      <th>2020-04-15</th>\n",
       "      <td>Uber</td>\n",
       "      <td>5.4</td>\n",
       "      <td>Travel</td>\n",
       "    </tr>\n",
       "    <tr>\n",
       "      <th>2020-04-14</th>\n",
       "      <td>ACH Electronic CreditGUSTO PAY 123456</td>\n",
       "      <td>5850.0</td>\n",
       "      <td>Transfer</td>\n",
       "    </tr>\n",
       "    <tr>\n",
       "      <th>2020-04-14</th>\n",
       "      <td>CD DEPOSIT .INITIAL.</td>\n",
       "      <td>1000.0</td>\n",
       "      <td>Transfer</td>\n",
       "    </tr>\n",
       "    <tr>\n",
       "      <th>2020-04-13</th>\n",
       "      <td>Touchstone Climbing</td>\n",
       "      <td>78.5</td>\n",
       "      <td>Recreation</td>\n",
       "    </tr>\n",
       "  </tbody>\n",
       "</table>\n",
       "</div>"
      ],
      "text/plain": [
       "                                             name  amount    category\n",
       "date                                                                 \n",
       "2020-04-15           CREDIT CARD 3333 PAYMENT *//    25.0     Payment\n",
       "2020-04-15                                   Uber     5.4      Travel\n",
       "2020-04-14  ACH Electronic CreditGUSTO PAY 123456  5850.0    Transfer\n",
       "2020-04-14                   CD DEPOSIT .INITIAL.  1000.0    Transfer\n",
       "2020-04-13                    Touchstone Climbing    78.5  Recreation"
      ]
     },
     "execution_count": 152,
     "metadata": {},
     "output_type": "execute_result"
    }
   ],
   "source": [
    "transaction_df['amount'] = transaction_df['amount'].astype(float)\n",
    "transaction_df['date'] = pd.to_datetime(transaction_df['date'], infer_datetime_format=True)\n",
    "transaction_df.set_index('date', inplace=True)\n",
    "transaction_df.head()"
   ]
  },
  {
   "cell_type": "markdown",
   "metadata": {},
   "source": [
    "---"
   ]
  },
  {
   "cell_type": "markdown",
   "metadata": {},
   "source": [
    "# Income Analysis with Plaid\n",
    "\n",
    "In this section, you will use the Plaid Sandbox to complete the following:\n",
    "1. Determine the previous year's gross income and print the results\n",
    "2. Determine the current monthly income and print the results\n",
    "3. Determine the projected yearly income and print the results"
   ]
  },
  {
   "cell_type": "code",
   "execution_count": 153,
   "metadata": {},
   "outputs": [
    {
     "name": "stdout",
     "output_type": "stream",
     "text": [
      "The Previous year's gross income : 7285.0$\n",
      "The Current monthly income : 500.0$\n",
      "The Projected yearly income : 6085.0$\n"
     ]
    }
   ],
   "source": [
    "# Fetch income data using access_token\n",
    "income_data = client.Income.get(access_token)['income']\n",
    "\n",
    "# The previous year's gross income \n",
    "print(f\"The Previous year's gross income : {income_data['last_year_income_before_tax']*1.00}$\")\n",
    "\n",
    "# The current monthly income\n",
    "print(f\"The Current monthly income : {income_data['income_streams'][0]['monthly_income']*1.00}$\")\n",
    "\n",
    "# The projected yearly income\n",
    "print(f\"The Projected yearly income : {income_data['projected_yearly_income']*1.00}$\")"
   ]
  },
  {
   "cell_type": "markdown",
   "metadata": {},
   "source": [
    "---"
   ]
  },
  {
   "cell_type": "markdown",
   "metadata": {},
   "source": [
    "# Budget Analysis\n",
    "In this section, you will use the transactions DataFrame to analyze the customer's budget\n",
    "\n",
    "1. Calculate the total spending per category and print the results (Hint: groupby or count transactions per category)\n",
    "2. Generate a bar chart with the number of transactions for each category \n",
    "3. Calculate the expenses per month\n",
    "4. Plot the total expenses per month"
   ]
  },
  {
   "cell_type": "markdown",
   "metadata": {},
   "source": [
    "### Calculate the expenses per category"
   ]
  },
  {
   "cell_type": "code",
   "execution_count": 158,
   "metadata": {},
   "outputs": [
    {
     "data": {
      "text/plain": [
       "array([<matplotlib.axes._subplots.AxesSubplot object at 0x7fa4f92e4510>],\n",
       "      dtype=object)"
      ]
     },
     "execution_count": 158,
     "metadata": {},
     "output_type": "execute_result"
    },
    {
     "data": {
      "image/png": "[encoded data removed]",
      "text/plain": [
       "<Figure size 576x576 with 1 Axes>"
      ]
     },
     "metadata": {},
     "output_type": "display_data"
    }
   ],
   "source": [
    "expenses_per_category = transaction_df.groupby('category').sum()\n",
    "expenses_per_category.plot.pie(figsize=(8,8), subplots=True, title='The expenses per category')"
   ]
  },
  {
   "cell_type": "markdown",
   "metadata": {},
   "source": [
    "### Generate a bar chart with the number of transactions for each category"
   ]
  },
  {
   "cell_type": "code",
   "execution_count": 186,
   "metadata": {},
   "outputs": [
    {
     "data": {
      "image/png": "[encoded data removed]",
      "text/plain": [
       "<Figure size 432x288 with 1 Axes>"
      ]
     },
     "metadata": {
      "needs_background": "light"
     },
     "output_type": "display_data"
    }
   ],
   "source": [
    "transactions_per_category = transaction_df.groupby('category').count()[['name']]\n",
    "\n",
    "ax = transactions_per_category.plot.bar(title='Transactions per category', legend=False)\n",
    "ax.set(ylabel='count')\n",
    "\n",
    "for p in ax.patches:\n",
    "    ax.annotate(str(p.get_height()), (p.get_x(), p.get_height()))"
   ]
  },
  {
   "cell_type": "markdown",
   "metadata": {},
   "source": [
    "### Calculate the expenses per month"
   ]
  },
  {
   "cell_type": "code",
   "execution_count": 156,
   "metadata": {},
   "outputs": [],
   "source": [
    "# Calculating the sum of expenses for every month\n",
    "expenses_per_month = transaction_df.groupby(pd.Grouper(freq='M')).sum()\n",
    "\n",
    "# Convert the date column into date type \n",
    "expenses_per_month.reset_index(inplace=True)\n",
    "expenses_per_month['date'] = pd.to_datetime(expenses_per_month['date'], infer_datetime_format=True)\n",
    "expenses_per_month.set_index('date', inplace=True)\n"
   ]
  },
  {
   "cell_type": "code",
   "execution_count": 190,
   "metadata": {},
   "outputs": [
    {
     "data": {
      "image/png": "[encoded data removed]",
      "text/plain": [
       "<Figure size 432x288 with 1 Axes>"
      ]
     },
     "metadata": {
      "needs_background": "light"
     },
     "output_type": "display_data"
    }
   ],
   "source": [
    "# Plot the bar chart for the expenses per month\n",
    "ax = expenses_per_month.plot.bar(legend=False, title='Expenses per month')\n",
    "ax.set_xticklabels(pd.DatetimeIndex(expenses_per_month.index).month)\n",
    "ax.set(xlabel='month', ylabel='amount')\n",
    "for p in ax.patches:\n",
    "    ax.annotate(str(int(p.get_height()))+'$', (p.get_x(), p.get_height()))"
   ]
  },
  {
   "cell_type": "code",
   "execution_count": null,
   "metadata": {},
   "outputs": [],
   "source": []
  }
 ],
 "metadata": {
  "kernel_info": {
   "name": "dev"
  },
  "kernelspec": {
   "display_name": "Python 3",
   "language": "python",
   "name": "python3"
  },
  "language_info": {
   "codemirror_mode": {
    "name": "ipython",
    "version": 3
   },
   "file_extension": ".py",
   "mimetype": "text/x-python",
   "name": "python",
   "nbconvert_exporter": "python",
   "pygments_lexer": "ipython3",
   "version": "3.7.6"
  },
  "nteract": {
   "version": "0.12.3"
  }
 },
 "nbformat": 4,
 "nbformat_minor": 4
}
